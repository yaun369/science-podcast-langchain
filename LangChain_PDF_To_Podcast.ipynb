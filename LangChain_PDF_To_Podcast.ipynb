{
 "cells": [
  {
   "cell_type": "code",
   "execution_count": 26,
   "metadata": {},
   "outputs": [],
   "source": [
    "import os\n",
    "from dotenv import load_dotenv"
   ]
  },
  {
   "attachments": {},
   "cell_type": "markdown",
   "metadata": {},
   "source": [
    "引入 OPENAI_API_KEY 和 OPENAI_API_BASE 接口代理地址"
   ]
  },
  {
   "cell_type": "code",
   "execution_count": 24,
   "metadata": {},
   "outputs": [],
   "source": [
    "load_dotenv()\n",
    "OPENAI_API_KEY = os.environ['OPENAI_API_KEY']\n",
    "OPENAI_API_BASE = os.environ['OPENAI_API_BASE']"
   ]
  },
  {
   "attachments": {},
   "cell_type": "markdown",
   "metadata": {},
   "source": [
    "使用 PyPDFLoader 解析 PDF，需要先安装 pypdf 库"
   ]
  },
  {
   "cell_type": "code",
   "execution_count": 27,
   "metadata": {},
   "outputs": [],
   "source": [
    "from langchain.document_loaders import PyPDFLoader\n",
    "\n",
    "loader = PyPDFLoader('pdf_data/893.pdf')\n",
    "pages = loader.load_and_split()"
   ]
  },
  {
   "attachments": {},
   "cell_type": "markdown",
   "metadata": {},
   "source": [
    "把解析好的文本内容用 text_splitter 分块"
   ]
  },
  {
   "cell_type": "code",
   "execution_count": 28,
   "metadata": {},
   "outputs": [
    {
     "name": "stdout",
     "output_type": "stream",
     "text": [
      "35 split_docs\n"
     ]
    }
   ],
   "source": [
    "from langchain.text_splitter import RecursiveCharacterTextSplitter\n",
    "# chunk_overlap=0 表示没有重叠的字符\n",
    "text_splitter = RecursiveCharacterTextSplitter(\n",
    "    chunk_size=1000, chunk_overlap=0)\n",
    "split_docs = text_splitter.split_documents(pages)\n",
    "print(f'{len(split_docs)} split_docs')"
   ]
  },
  {
   "cell_type": "code",
   "execution_count": 29,
   "metadata": {},
   "outputs": [],
   "source": [
    "from langchain.embeddings.openai import OpenAIEmbeddings\n",
    "from langchain.vectorstores import Chroma\n",
    "\n",
    "embeddings = OpenAIEmbeddings(openai_api_key=OPENAI_API_KEY)\n",
    "\n",
    "persist_directory = \"chroma_storage_893\"\n",
    "\n",
    "if os.path.exists(persist_directory) != True:\n",
    "    # 把分块内容处理成 embeddings\n",
    "    vectorstore = Chroma.from_documents(\n",
    "        split_docs, embeddings, persist_directory=persist_directory)\n",
    "    # 结果持久化\n",
    "    vectorstore.persist()"
   ]
  },
  {
   "cell_type": "code",
   "execution_count": 30,
   "metadata": {},
   "outputs": [
    {
     "name": "stderr",
     "output_type": "stream",
     "text": [
      "Using embedded DuckDB with persistence: data will be stored in: chroma_storage_893\n"
     ]
    },
    {
     "name": "stdout",
     "output_type": "stream",
     "text": [
      "[Document(page_content='浅析 ChatGPT : 历史沿革 、应用现状及前景展望\\n刘禹良1，李鸿亮2，白翔1*，金连文2\\n1. 华中科技大学人工智能与自动化学院 ，武汉  430074 ； 2. 华南理工大学电子与信息学院 ，广州  510640\\n摘 要： 近年来 ，人工智能技术接连取得突破 ，尤其是在强化学习 、大规模语言模型和人工智能生成内容技术等方\\n面，正逐步成为各个行业的创新驱动力 。OpenAI 于2022 年11月30日发布的 ChatGPT 由于具有惊人的自然语言理\\n解和生成能力 ，引起全社会大范围的关注 ，成为全球热议的话题 ，并被广泛应用于各个行业 。仅两个月后 ，ChatGPT\\n的月活跃用户数便达 1亿，成为史上用户数增长最快的消费者应用 。鉴于 ChatGPT 目前造成的影响 ，对其进行全面\\n的分析较为必要 。本文从历史沿革 、应用现状和前景展望这 3个角度对 ChatGPT 进行剖析 ，探究其对社会的影响 、技\\n术的原理和挑战以及未来发展的可能性 ，并从模型能力的角度简要介绍 GPT-4相对于 ChatGPT 的改进 。作为一个\\n现象级技术产品 ，从技术角度而言 ChatGPT 对相关领域具有里程碑式的重要意义 ，从应用角度而言其可能会给人类\\n社会带来巨大的影响 。ChatGPT 有潜力成为计算机领域最伟大的成就之一 。但就目前而言 ，ChatGPT 仍然存在一些\\n局限 ，尚未达到强人工智能的水平 。在当前阶段 ，研究人员需要对人工智能技术持有自信和谦虚学习的态度 ，继续\\n发展相关的技术研究和应用 。\\n关键词： 人工智能 （AI） ；深度学习 ；自然语言处理 ；生成式人工智能技术 （AIGC ） ；ChatGPT\\nA brief analysis of ChatGPT ： historical evolution ， \\ncurrent applications ， and future prospects\\nLiu\\u3000Yuliang1， Li\\u3000Hongliang2， Bai\\u3000Xiang1*， Jin\\u3000Lianwen2\\n1. School of Artificial Intelligence and Automation ， Huazhong University of Science and Technology ， Wuhan  430074 ， China ；', metadata={'source': 'pdf_data/893.pdf', 'page': 0}), Document(page_content='第 28 卷 / 第 4 期 / 2023  年4 月刘禹良，李鸿亮，白翔，金连文  \\n浅析 ChatGPT ： 历史沿革 、应用现状及前景展望\\n2\\u3000技术原理简介及可扩展性\\nChatGPT 是一种基于认知计算和人工智能的语\\n言 模 型 ，它 使 用 了  Transformer 架 构 （Vaswani 等，\\n2017 ）和GPT（Radford 等，2018 ） ，即生成式预训练技\\n术。GPT 训练的模型是一种应用于自然语言处理\\n（NLP）的模型 ，它通过使用多层 Transformer 来预测\\n下一个单词的概率分布 ，以生成自然语言文本 。这\\n是通过在超大型文本语料库上训练学习到的语言模\\n式来实现的 。\\n如表 2所示 ，从2018 年拥有 1.17亿参数的 GPT-1\\n（Radford 等，2018 ）到2020 年 拥 有 1 750亿 参 数 的\\nGPT-3（Brown 等，2020 ） ，OpenAI 的语言模型智能化\\n程度明显提升 。随着模型的不断增大 ，生成模型的\\n不断改进 ，以及自监督的不断完善 ，GPT 的语言处理\\n能力和生成能力得到了显著提升 。此后 ，2022 年\\n1月 基 于 RLHF （reinforcement learning from human \\nfeedback ）的InstructGPT （Ouyang 等，2022 ）的提出显\\n著降低了有害 、不真实和有偏差输出的概率 。在\\n2022 年12月，ChatGPT 作为 InstructGPT 的姐妹模型\\n被推出 。ChatGPT 在Instruct GPT 的基础上仅仅增\\n加了聊天属性 ，并且向公众开放了测试版本 。Chat⁃\\nGPT 的成功离不开多类技术的积累 ，除了生成式预\\n训练技术之外 ，其中最为核心的技术包括以下几个\\n方面 ：\\n1）RLHF 方法是一种基于人类偏好的强化学习\\n方法 。它通过利用人们对对话代理回答的评价来改\\n进对话代理的回答 。RLHF 方法可以根据人们的喜\\n好对对话代理的回答进行排序 ，例如通过考虑人们\\n喜欢的内容来选择文本摘要 。这些回答的评价用来\\n训练一个奖励模型 ，该模型将告诉强化学习系统如\\n何评价回答的好坏 。最后 ，通过强化学习训练对话代理来拟合这个奖励模型 。整个训练过程包括对\\nGPT-3进行监督微调 ，然后训练奖励模型 ，最后通过', metadata={'source': 'pdf_data/893.pdf', 'page': 4})]\n"
     ]
    }
   ],
   "source": [
    "query = 'ChatGPT 是如何发展演变的，历史沿革是怎样的？'\n",
    "# 加载保存在本地的文档数据\n",
    "vectordb = Chroma(persist_directory=persist_directory,\n",
    "                  embedding_function=embeddings)\n",
    "# 查询与提问最相关的2个文档\n",
    "search_docs = vectordb.similarity_search(query, 2)\n",
    "print(search_docs)"
   ]
  },
  {
   "cell_type": "code",
   "execution_count": 31,
   "metadata": {},
   "outputs": [
    {
     "name": "stdout",
     "output_type": "stream",
     "text": [
      "Q: ChatGPT 是如何发展演变的，历史沿革是怎样的？\n",
      "A: 根据文中所述，ChatGPT是一种基于生成式预训练技术的语言模型，它使用了Transformer架构和GPT（生成式预训练技术）来预测下一个单词的概率分布，以生成自然语言文本。GPT训练的模型是一种应用于自然语言处理（NLP）的模型，它通过在超大型文本语料库上训练学习到的语言模式来实现的。从2018年拥有1.17亿参数的GPT-1到2020年拥有1750亿参数的GPT-3，OpenAI的语言模型智能化程度明显提升。在2022年1月基于RLHF（reinforcement learning from human feedback）的InstructGPT的提出显著降低了有害、不真实和有偏差输出的概率。在2022年12月，ChatGPT作为InstructGPT的姐妹模型被推出。因此，ChatGPT是在GPT-3的基础上发展演变而来的。\n"
     ]
    }
   ],
   "source": [
    "from langchain.chat_models import ChatOpenAI\n",
    "from langchain.chains.question_answering import load_qa_chain\n",
    "# 构建llm \n",
    "# temperature=0 意味着需要最保守的回答 减小模型产生幻觉的几率\n",
    "llm = ChatOpenAI(temperature=0, openai_api_key=OPENAI_API_KEY,\n",
    "                 model_name='gpt-3.5-turbo', api_base=OPENAI_API_BASE)\n",
    "chain = load_qa_chain(llm, chain_type='stuff')\n",
    "results = chain.run(input_documents=search_docs, question=query)\n",
    "print(f'Q: {query}')\n",
    "print(f'A: {results}')"
   ]
  },
  {
   "cell_type": "code",
   "execution_count": 32,
   "metadata": {},
   "outputs": [
    {
     "name": "stdout",
     "output_type": "stream",
     "text": [
      "<speak xmlns=\"http://www.w3.org/2001/10/synthesis\" xmlns:mstts=\"http://www.w3.org/2001/mstts\" xmlns:emo=\"http://www.w3.org/2009/10/emotionml\" version=\"1.0\" xml:lang=\"en-US\"><voice name=\"zh-TW-YunJheNeural\"><prosody rate=\"20%\" pitch=\"20%\">ChatGPT 是如何发展演变的，历史沿革是怎样的？根据文中所述，ChatGPT是一种基于生成式预训练技术的语言模型，它使用了Transformer架构和GPT（生成式预训练技术）来预测下一个单词的概率分布，以生成自然语言文本。GPT训练的模型是一种应用于自然语言处理（NLP）的模型，它通过在超大型文本语料库上训练学习到的语言模式来实现的。从2018年拥有1.17亿参数的GPT-1到2020年拥有1750亿参数的GPT-3，OpenAI的语言模型智能化程度明显提升。在2022年1月基于RLHF（reinforcement learning from human feedback）的InstructGPT的提出显著降低了有害、不真实和有偏差输出的概率。在2022年12月，ChatGPT作为InstructGPT的姐妹模型被推出。因此，ChatGPT是在GPT-3的基础上发展演变而来的。</prosody></voice></speak>\n"
     ]
    }
   ],
   "source": [
    "import xml.etree.ElementTree as ET\n",
    "\n",
    "speak = ET.Element('speak')\n",
    "speak.set('xmlns', 'http://www.w3.org/2001/10/synthesis')\n",
    "speak.set('xmlns:mstts', 'http://www.w3.org/2001/mstts')\n",
    "speak.set('xmlns:emo', 'http://www.w3.org/2009/10/emotionml')\n",
    "speak.set('version', '1.0')\n",
    "speak.set('xml:lang', 'en-US')\n",
    "\n",
    "voice = ET.SubElement(speak, 'voice')\n",
    "voice.set('name', 'zh-TW-YunJheNeural')\n",
    "\n",
    "prosody = ET.SubElement(voice, 'prosody')\n",
    "prosody.set('rate', '20%')\n",
    "prosody.set('pitch', '20%')\n",
    "prosody.text = query + results\n",
    "\n",
    "ET.dump(speak)\n",
    "tree = ET.ElementTree(speak)\n",
    "tree.write(persist_directory + '/SSML.xml', encoding='utf-8')"
   ]
  }
 ],
 "metadata": {
  "kernelspec": {
   "display_name": "base",
   "language": "python",
   "name": "python3"
  },
  "language_info": {
   "codemirror_mode": {
    "name": "ipython",
    "version": 3
   },
   "file_extension": ".py",
   "mimetype": "text/x-python",
   "name": "python",
   "nbconvert_exporter": "python",
   "pygments_lexer": "ipython3",
   "version": "3.9.13"
  },
  "orig_nbformat": 4
 },
 "nbformat": 4,
 "nbformat_minor": 2
}
